{
 "cells": [
  {
   "cell_type": "code",
   "execution_count": 61,
   "metadata": {},
   "outputs": [],
   "source": [
    "#join data with risk\n",
    "import pandas as pd\n",
    "import warnings\n",
    "warnings.filterwarnings(\"ignore\")\n",
    "from sklearn.feature_extraction.text import CountVectorizer\n",
    "from sklearn.ensemble import RandomForestClassifier\n",
    "from sklearn.model_selection import cross_val_score\n",
    "from tabulate import tabulate\n",
    "from termcolor import colored"
   ]
  },
  {
   "cell_type": "code",
   "execution_count": 66,
   "metadata": {},
   "outputs": [],
   "source": [
    "class RiskPrediction():\n",
    "    def __init__(self):\n",
    "        self.data=None\n",
    "        self.column_list=None\n",
    "        self.assert_did=None\n",
    "        self.risk=None\n",
    "        \n",
    "    def load_data(self):\n",
    "        data=pd.read_csv('AuditAreaData.csv')\n",
    "        data1=pd.read_csv('rawdata/e_aa_asserts.csv')\n",
    "        result=data1.ix[:,['eng_aa_sid','assert_did','inherent_risk_did','ctrlrisk_did','combined_risk_did']].merge(data,on='eng_aa_sid')\n",
    "\n",
    "        # replace missing value with 'None'\n",
    "        column_ls=result.columns.tolist()[5:]\n",
    "        self.column_ls=column_ls\n",
    "        result[column_ls]=result[column_ls].fillna('None')\n",
    "\n",
    "        #remove testing data\n",
    "        for column in column_ls:\n",
    "            result=result[result[column].str.contains(\"test\") == False]\n",
    "            result=result[result[column].str.contains(\"Test\") == False]\n",
    "\n",
    "        print('after clearning the testing data,  %s rows left' % (result.shape[0]))\n",
    "        print(result['assert_did'].value_counts())\n",
    "        self.data=result\n",
    "        \n",
    "    def create(self,assert_did,risk):\n",
    "        self.assert_did=assert_did\n",
    "        self.risk=risk\n",
    "        \n",
    "    def build(self):\n",
    "        stop_list=self.stop_words()\n",
    "        df=self.data_preprocessing()\n",
    "\n",
    "        #get training data\n",
    "        train=pd.DataFrame()\n",
    "        for index, column in enumerate(self.column_ls):\n",
    "            X=df[column]\n",
    "            cvec=CountVectorizer(max_features=20,lowercase=True, stop_words= stop_list).fit(X)\n",
    "            temp=pd.DataFrame(cvec.transform(X).todense(),columns=[ str(index)+'_'+value for value in cvec.get_feature_names()])\n",
    "            train=pd.concat([train,temp],axis=1)\n",
    "        print('training shape is', train.shape)\n",
    "\n",
    "        # get accuracy\n",
    "        model=RandomForestClassifier()\n",
    "        result=cross_val_score(model, train, df[self.risk].tolist(), cv=6, scoring = 'accuracy')\n",
    "        print(colored('accuracy rate of the model is: %s' % (result.mean()),'red'),'\\n')\n",
    "\n",
    "        #build model    \n",
    "        rf = RandomForestClassifier()\n",
    "        rf.fit(train, df[self.risk].tolist())\n",
    "\n",
    "        #analysis\n",
    "        headers = [\"name\", \"score\"]\n",
    "        values = sorted(zip(train.columns.tolist(), rf.feature_importances_), key=lambda x: x[1] * -1)\n",
    "        values = values[0:15] #top 15\n",
    "        print(tabulate(values, headers, tablefmt=\"plain\"))\n",
    "        \n",
    "#-------------------------------------------\n",
    "    def stop_words(self):\n",
    "        stop_list=pd.read_csv('/Users/katherine/nltk_data/corpora/stopwords/english',header=None)[0].tolist()\n",
    "        stop_list.remove('no')\n",
    "        stop_list.remove('not')\n",
    "        return stop_list\n",
    "\n",
    "    def data_preprocessing(self):\n",
    "        df=self.data[self.data.assert_did==self.assert_did]\n",
    "        row1=df.shape[0]\n",
    "        df=df.dropna(subset=[self.risk])\n",
    "        print('there are %s missing rows, so only %s rows left' % (row1-df.shape[0],df.shape[0]),'\\n')\n",
    "        print(df[self.risk].value_counts(),'\\n')\n",
    "        print(colored('baseline accuracy rate: %s' % (df[self.risk].value_counts().reset_index().ix[0,1]/df.shape[0]),'red'),'\\n')\n",
    "        return df\n"
   ]
  },
  {
   "cell_type": "code",
   "execution_count": 67,
   "metadata": {},
   "outputs": [
    {
     "name": "stdout",
     "output_type": "stream",
     "text": [
      "after clearning the testing data,  15375 rows left\n",
      "3    2563\n",
      "2    2563\n",
      "1    2563\n",
      "7    2560\n",
      "6    2560\n",
      "8    2560\n",
      "5       3\n",
      "4       3\n",
      "Name: assert_did, dtype: int64\n"
     ]
    }
   ],
   "source": [
    "model=RiskPrediction()\n",
    "model.load_data()"
   ]
  },
  {
   "cell_type": "code",
   "execution_count": 68,
   "metadata": {},
   "outputs": [],
   "source": [
    "model.create(assert_did=3,risk='combined_risk_did') # 'inherent_risk_did', 'ctrlrisk_did', 'combined_risk_did'"
   ]
  },
  {
   "cell_type": "code",
   "execution_count": 69,
   "metadata": {},
   "outputs": [
    {
     "name": "stdout",
     "output_type": "stream",
     "text": [
      "there are 2287 missing rows, so only 276 rows left \n",
      "\n",
      "1.0    220\n",
      "2.0     50\n",
      "4.0      6\n",
      "Name: combined_risk_did, dtype: int64 \n",
      "\n",
      "\u001b[31mbaseline accuracy rate: 0.797101449275\u001b[0m \n",
      "\n",
      "training shape is (276, 632)\n",
      "\u001b[31maccuracy rate of the model is: 0.789947579402\u001b[0m \n",
      "\n",
      "name               score\n",
      "13_npo         0.0445269\n",
      "5_fees         0.035908\n",
      "23_management  0.0348131\n",
      "11_basis       0.0302107\n",
      "3_controls     0.0268968\n",
      "0_would        0.0234855\n",
      "33_company     0.0179181\n",
      "24_odh         0.0178812\n",
      "23_revenue     0.0174884\n",
      "33_no          0.017053\n",
      "3_could        0.0169313\n",
      "22_revenue     0.0165524\n",
      "0_year         0.0161978\n",
      "7_management   0.0151684\n",
      "7_not          0.0143692\n"
     ]
    }
   ],
   "source": [
    "model.build()"
   ]
  },
  {
   "cell_type": "code",
   "execution_count": null,
   "metadata": {},
   "outputs": [],
   "source": []
  }
 ],
 "metadata": {
  "kernelspec": {
   "display_name": "Python 3",
   "language": "python",
   "name": "python3"
  },
  "language_info": {
   "codemirror_mode": {
    "name": "ipython",
    "version": 3
   },
   "file_extension": ".py",
   "mimetype": "text/x-python",
   "name": "python",
   "nbconvert_exporter": "python",
   "pygments_lexer": "ipython3",
   "version": "3.6.3"
  }
 },
 "nbformat": 4,
 "nbformat_minor": 2
}
